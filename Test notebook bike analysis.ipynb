{
 "cells": [
  {
   "cell_type": "code",
   "execution_count": 1,
   "metadata": {},
   "outputs": [],
   "source": [
    "# load module\n",
    "from urllib.request import urlretrieve\n",
    "import os\n",
    "import pandas as pd\n",
    "%matplotlib inline\n",
    "import matplotlib.pyplot as plt\n",
    "plt.style.use('seaborn')\n",
    "# set URL\n",
    "\n",
    "URL='https://data.seattle.gov/api/views/65db-xm6k/rows.csv?accessType=DOWNLOAD'\n",
    "\n",
    "def get_fremont_data(filename = 'Fremont.csv', url = URL, force_download = False):\n",
    "    if force_download or not os.path.exists(filename):\n",
    "        urlretrieve(URL, 'Fremont.csv')\n",
    "    \n",
    "    data = pd.read_csv('Fremont.csv', index_col ='Date', parse_dates = True)\n",
    "    data.columns = ['East', 'West']\n",
    "    data['Total'] = data['West'] + data['East']\n",
    "    \n",
    "    return data\n",
    "# download data from URL and call it Fremont.csv\n"
   ]
  },
  {
   "cell_type": "code",
   "execution_count": 2,
   "metadata": {},
   "outputs": [],
   "source": [
    "Data = get_fremont_data()"
   ]
  },
  {
   "cell_type": "code",
   "execution_count": null,
   "metadata": {},
   "outputs": [],
   "source": []
  }
 ],
 "metadata": {
  "kernelspec": {
   "display_name": "Python 3",
   "language": "python",
   "name": "python3"
  },
  "language_info": {
   "codemirror_mode": {
    "name": "ipython",
    "version": 3
   },
   "file_extension": ".py",
   "mimetype": "text/x-python",
   "name": "python",
   "nbconvert_exporter": "python",
   "pygments_lexer": "ipython3",
   "version": "3.6.5"
  }
 },
 "nbformat": 4,
 "nbformat_minor": 2
}
